{
 "cells": [
  {
   "cell_type": "code",
   "execution_count": 1,
   "id": "unique-stocks",
   "metadata": {},
   "outputs": [
    {
     "name": "stdout",
     "output_type": "stream",
     "text": [
      "Hello Python World\n"
     ]
    }
   ],
   "source": [
    "message = \"Hello Python World\"\n",
    "print(message)"
   ]
  },
  {
   "cell_type": "code",
   "execution_count": 14,
   "id": "consistent-trinidad",
   "metadata": {
    "scrolled": true
   },
   "outputs": [
    {
     "name": "stdout",
     "output_type": "stream",
     "text": [
      "Ada Lovelace\n",
      "ADA LOVELACE\n",
      "ada lovelace\n",
      "Marvin Solis\n",
      "\tMarvin Solis\n",
      "\n",
      "Marvin\n",
      "Solis\n",
      "python   \n",
      "python\n",
      "One of Python's strengths is its diverse community.\n",
      "What is your name?mar\n",
      "Hello mar, would you like to learn some Python today?\n",
      "Albert Einstein once said, \"A person who never made a mistake never tried anything new\"\n"
     ]
    }
   ],
   "source": [
    "#Changing Case in a String with Methods\n",
    "name = \"ada loveLace\"\n",
    "print(name.title())\n",
    "print(name.upper())\n",
    "print(name.lower())\n",
    "\n",
    "#Combining or concatenating String\n",
    "first_name = \"Marvin\"\n",
    "last_name = \"Solis\"\n",
    "full_name = first_name + \" \" + last_name\n",
    "print(full_name)\n",
    "\n",
    "#adding a tabs\n",
    "print(\"\\t\"+full_name)\n",
    "#adding a new line\n",
    "print(\"\\n\"+first_name+\"\\n\"+last_name)\n",
    "\n",
    "#striping Whitespace\n",
    "language = \"python   \"\n",
    "print(language)\n",
    "print(language.rstrip())\n",
    "\n",
    "#avoiding Syntax Error with Strings\n",
    "message = \"One of Python's strengths is its diverse community.\"\n",
    "print(message)\n",
    "\n",
    "#personal Message\n",
    "nombre = \"MARVINs\"\n",
    "print(\"Hello \"+nombre+\", would you like to learn some Python today?\")\n",
    "\n",
    "#Name Cases\n",
    "print('Albert Einstein once said, \"A person who never made a mistake never tried anything new\"')\n"
   ]
  },
  {
   "cell_type": "code",
   "execution_count": 22,
   "id": "earlier-suite",
   "metadata": {},
   "outputs": [
    {
     "name": "stdout",
     "output_type": "stream",
     "text": [
      "Happy 30th Birthday!\n"
     ]
    }
   ],
   "source": [
    "#Number\n",
    "#integer: You can add (+), subtract(-), multiply(*), and divide(/) intergers in Python\n",
    "#Floats: Python calls any number with a decimal point a float.\n",
    "\n",
    "#Avoiding type errors with the str() Function\n",
    "age = 30\n",
    "message = \"Happy \" + str(age) + \"th Birthday!\"\n",
    "print(message)\n"
   ]
  },
  {
   "cell_type": "code",
   "execution_count": 23,
   "id": "excellent-farming",
   "metadata": {},
   "outputs": [
    {
     "name": "stdout",
     "output_type": "stream",
     "text": [
      "The Zen of Python, by Tim Peters\n",
      "\n",
      "Beautiful is better than ugly.\n",
      "Explicit is better than implicit.\n",
      "Simple is better than complex.\n",
      "Complex is better than complicated.\n",
      "Flat is better than nested.\n",
      "Sparse is better than dense.\n",
      "Readability counts.\n",
      "Special cases aren't special enough to break the rules.\n",
      "Although practicality beats purity.\n",
      "Errors should never pass silently.\n",
      "Unless explicitly silenced.\n",
      "In the face of ambiguity, refuse the temptation to guess.\n",
      "There should be one-- and preferably only one --obvious way to do it.\n",
      "Although that way may not be obvious at first unless you're Dutch.\n",
      "Now is better than never.\n",
      "Although never is often better than *right* now.\n",
      "If the implementation is hard to explain, it's a bad idea.\n",
      "If the implementation is easy to explain, it may be a good idea.\n",
      "Namespaces are one honking great idea -- let's do more of those!\n"
     ]
    }
   ],
   "source": [
    "import this"
   ]
  },
  {
   "cell_type": "code",
   "execution_count": 19,
   "id": "ongoing-appeal",
   "metadata": {},
   "outputs": [
    {
     "name": "stdout",
     "output_type": "stream",
     "text": [
      "['trek', 'cannondale', 'redline', 'specialized']\n",
      "Trek\n",
      "specialized\n",
      "My first bicycle was Trek.\n",
      "['honda', 'yamaha', 'susuki']\n",
      "['ducati', 'yamaha', 'susuki']\n",
      "['ducati', 'yamaha', 'susuki', 'honda']\n",
      "['ducati', 'genesis', 'yamaha', 'susuki', 'honda']\n",
      "['genesis', 'yamaha', 'susuki', 'honda']\n",
      "['genesis', 'yamaha', 'susuki']\n",
      "honda\n",
      "['genesis', 'yamaha']\n",
      "The first motorcycle I owned was a Susuki.\n",
      "['yamaha']\n"
     ]
    }
   ],
   "source": [
    "#List\n",
    "bicycles = ['trek', 'cannondale', 'redline', 'specialized']\n",
    "print(bicycles)\n",
    "\n",
    "#accessing elements in a list\n",
    "print(bicycles[0].title())\n",
    "\n",
    "#index positions start at 0, Not 1\n",
    "print(bicycles[-1])\n",
    "\n",
    "#Using individual values from a list\n",
    "message = \"My first bicycle was \" + bicycles[0].title()+\".\"\n",
    "print(message)\n",
    "\n",
    "#Changing, Adding, and Removing Elements\n",
    "#Modifying Elements in a List\n",
    "motorcycles = ['honda','yamaha', 'susuki']\n",
    "print(motorcycles)\n",
    "motorcycles[0] = 'ducati'\n",
    "print(motorcycles)\n",
    "\n",
    "#adding\n",
    "motorcycles.append('honda')\n",
    "print(motorcycles)\n",
    "\n",
    "#inserting elements in a list\n",
    "motorcycles.insert(1, 'genesis')\n",
    "print(motorcycles)\n",
    "\n",
    "#Removing Elements from a list\n",
    "del motorcycles[0]\n",
    "print(motorcycles)\n",
    "\n",
    "#Removing an Item Using the pop() Method\n",
    "popped_motorcycle = motorcycles.pop()\n",
    "print(motorcycles)\n",
    "print(popped_motorcycle)\n",
    "last_owned = motorcycles.pop()\n",
    "print(motorcycles)\n",
    "print('The first motorcycle I owned was a ' + last_owned.title() + '.')\n",
    "\n",
    "#Removing an Item by Value\n",
    "motorcycles.remove('genesis')\n",
    "print(motorcycles)"
   ]
  },
  {
   "cell_type": "code",
   "execution_count": 27,
   "id": "confirmed-carrier",
   "metadata": {},
   "outputs": [
    {
     "name": "stdout",
     "output_type": "stream",
     "text": [
      "['audi', 'bmw', 'subaru', 'toyota']\n",
      "['toyota', 'subaru', 'bmw', 'audi']\n",
      "\n",
      "Here is the original list:\n",
      "['bmw', 'audi', 'toyota', 'subaru']\n",
      "\n",
      " Here is the sorted list:\n",
      "['audi', 'bmw', 'subaru', 'toyota']\n",
      "\n",
      "Here is the original list againg:\n",
      "['bmw', 'audi', 'toyota', 'subaru']\n",
      "['subaru', 'toyota', 'audi', 'bmw']\n",
      "4\n"
     ]
    }
   ],
   "source": [
    "#List part 2\n",
    "#Organizing a List\n",
    "cars = ['bmw', 'audi', 'toyota','subaru']\n",
    "cars.sort()\n",
    "print(cars)\n",
    "#reverse alphabetical\n",
    "cars.sort(reverse=True)\n",
    "print(cars)\n",
    "\n",
    "#Sorting a List Temporarily with the sorted() Function\n",
    "cars = ['bmw', 'audi', 'toyota','subaru']\n",
    "print(\"\\nHere is the original list:\")\n",
    "print(cars)\n",
    "print(\"\\n Here is the sorted list:\")\n",
    "print(sorted(cars))\n",
    "print(\"\\nHere is the original list againg:\")\n",
    "print(cars)\n",
    "\n",
    "#Printing a List in Reverse Order\n",
    "cars.reverse()\n",
    "print(cars)\n",
    "\n",
    "#Finding the Length of a List\n",
    "print(len(cars))\n",
    "\n",
    "#Avoiding Index Errors When Working with Lists.\n",
    "#Remenber index starts at 0.\n"
   ]
  },
  {
   "cell_type": "code",
   "execution_count": 50,
   "id": "statistical-amount",
   "metadata": {},
   "outputs": [
    {
     "name": "stdout",
     "output_type": "stream",
     "text": [
      "alice\n",
      "Alice, that was a great trick!\n",
      "david\n",
      "David, that was a great trick!\n",
      "carolina\n",
      "Carolina, that was a great trick!\n",
      "1\n",
      "2\n",
      "3\n",
      "4\n",
      "[1, 4, 9, 16, 25, 36, 49, 64, 81, 100]\n",
      "0\n",
      "9\n",
      "45\n",
      "[1, 4, 9, 16, 25, 36, 49, 64, 81, 100]\n",
      "[1, 2, 3, 4, 5, 6, 7, 8, 9, 10, 11, 12, 13, 14, 15, 16, 17, 18, 19, 20]\n",
      "['charles', 'martina', 'michael']\n",
      "['martina', 'michael', 'florence']\n",
      "['charles', 'martina', 'michael', 'florence']\n",
      "['michael', 'florence', 'eli']\n",
      "['michael', 'florence', 'eli']\n",
      "Charles\n",
      "Martina\n",
      "Michael\n",
      "My favorite foods are:\n",
      "['pizza', 'falafel', 'carrot cake', 'aguacate']\n",
      "\n",
      "My friend's favorite foods are:\n",
      "['pizza', 'falafel', 'carrot cake', 'ice cream']\n"
     ]
    }
   ],
   "source": [
    "#Part 3 List\n",
    "#Working List\n",
    "\n",
    "magicians = ['alice', 'david', 'carolina']\n",
    "for magician in magicians:\n",
    "    print(magician)\n",
    "    print(magician.title()+\", that was a great trick!\")\n",
    "    \n",
    "#Forgetting to Indent\n",
    "#Always indent the line after the for statement in a loop. If you forget,\n",
    "#Python will remind you: IndentationError\n",
    "#Forgetting to Indent Additional Lines\n",
    "#Indenting Unnecessarily\n",
    "#Indenting Unnecessarily After the Loop\n",
    "#Forgetting the colon\n",
    "\n",
    "#Making Numerical Lists\n",
    "#Using the range() Function\n",
    "for value in range(1,5):\n",
    "    print(value)\n",
    "\n",
    "#squares\n",
    "squares = []\n",
    "for value in range(1,11):\n",
    "    square = value**2\n",
    "    squares.append(square)\n",
    "\n",
    "print(squares)\n",
    "\n",
    "#Simple Statistics with a List of Numbers\n",
    "digits = [1,2,3,4,5,6,7,8,9,0]\n",
    "print(min(digits))\n",
    "print(max(digits))\n",
    "print(sum(digits))\n",
    "\n",
    "#List Comprehensions\n",
    "squares2 = [value**2 for value in range(1,11)]\n",
    "print(squares2)\n",
    "\n",
    "counts = [i for i in range(1,21)]\n",
    "print(counts)\n",
    "\n",
    "#Working with Part of a List\n",
    "#Slicing a List\n",
    "players = ['charles', 'martina', 'michael', 'florence', 'eli']\n",
    "print(players[0:3])\n",
    "print(players[1:4])\n",
    "print(players[:4])\n",
    "print(players[2:])\n",
    "print(players[-3:])\n",
    "\n",
    "#Looping Through a Slice\n",
    "for player in players[:3]:\n",
    "    print(player.title())\n",
    "    \n",
    "#Copying a List\n",
    "my_foods = ['pizza','falafel','carrot cake']\n",
    "friend_foods = my_foods[:]\n",
    "\n",
    "print(\"My favorite foods are:\")\n",
    "my_foods.append('aguacate')\n",
    "print(my_foods)\n",
    "\n",
    "print(\"\\nMy friend's favorite foods are:\")\n",
    "friend_foods.append('ice cream')\n",
    "print(friend_foods)"
   ]
  },
  {
   "cell_type": "code",
   "execution_count": 54,
   "id": "specified-steal",
   "metadata": {},
   "outputs": [
    {
     "name": "stdout",
     "output_type": "stream",
     "text": [
      "200\n",
      "50\n",
      "300\n",
      "100\n"
     ]
    }
   ],
   "source": [
    "#Tuples - Immutable List\n",
    "dimensions = (200, 50)\n",
    "print(dimensions[0])\n",
    "print(dimensions[1])\n",
    "\n",
    "dimensions = (300, 100)\n",
    "#Looping Through All Values in a Tuple\n",
    "for dimension in dimensions:\n",
    "    print(dimension)"
   ]
  },
  {
   "cell_type": "code",
   "execution_count": 6,
   "id": "welsh-alabama",
   "metadata": {},
   "outputs": [
    {
     "name": "stdout",
     "output_type": "stream",
     "text": [
      "Audi\n",
      "BMW\n",
      "Subaru\n",
      "Toyota\n",
      "Hold the anchovies!\n",
      "True\n",
      "False\n",
      "You are old enough to vote!\n",
      "Have you registered to vote yet?\n",
      "Your admission cost is $10.\n",
      "Adding mushrooms\n",
      "Adding extra cheese.\n",
      "\n",
      "Finished making your pizza!\n"
     ]
    }
   ],
   "source": [
    "#If Statements\n",
    "cars = ['audi', 'bmw', 'subaru', 'toyota']\n",
    "\n",
    "for car in cars:\n",
    "    if car == 'bmw':\n",
    "        print(car.upper())\n",
    "    else:\n",
    "        print(car.title())\n",
    "\n",
    "#Checking for Inequality\n",
    "requested_topping = 'mushrooms'\n",
    "\n",
    "if requested_topping != 'anchovies':\n",
    "    print(\"Hold the anchovies!\")\n",
    "\n",
    "#Numerical comparison\n",
    "age = 18\n",
    "print(age == 18)\n",
    "\n",
    "#Checking multiple conditions\n",
    "age_0 = 22\n",
    "age_1 = 18\n",
    "print(age_0 >= 21 and age_1 >= 21)\n",
    "\n",
    "if age >=18:\n",
    "    print(\"You are old enough to vote!\")\n",
    "    print(\"Have you registered to vote yet?\")\n",
    "else:\n",
    "    print(\"Sorry, you are too young to vote.\")\n",
    "    print(\"Please register to vote as soon as you turn 18!\")\n",
    "\n",
    "#The if-elif-else Chain\n",
    "#You can use multiple elif Blocks\n",
    "age = 25\n",
    "if age < 4:\n",
    "    print(\"Your admission cost is $0.\")\n",
    "elif age < 18:\n",
    "    print(\"Your admission cost is $5.\")\n",
    "else: \n",
    "    print(\"Your admission cost is $10.\")\n",
    "#Omitting the else Block\n",
    "age = 12\n",
    "\n",
    "if age < 4:\n",
    "    price = 0\n",
    "elif age < 18:\n",
    "    price = 5\n",
    "elif age < 65:\n",
    "    price = 10\n",
    "elif age >=65:\n",
    "    price = 15\n",
    "\n",
    "#Testing Multiple Conditions\n",
    "requested_topping = ['mushrooms','extra cheese']\n",
    "\n",
    "if 'mushrooms' in requested_topping:\n",
    "    print(\"Adding mushrooms\")\n",
    "if 'pepperoni' in requested_topping:\n",
    "    print(\"Adding pepperoni\")\n",
    "if 'extra cheese' in requested_topping:\n",
    "    print(\"Adding extra cheese.\")\n",
    "\n",
    "print(\"\\nFinished making your pizza!\")\n",
    "\n",
    "\n"
   ]
  },
  {
   "cell_type": "code",
   "execution_count": 10,
   "id": "capable-packaging",
   "metadata": {},
   "outputs": [
    {
     "name": "stdout",
     "output_type": "stream",
     "text": [
      "The alien color green earned 5 points\n"
     ]
    }
   ],
   "source": [
    "#Alien Colors\n",
    "alien_colors = ['green', 'yellow', 'red']\n",
    "\n",
    "if \"white\" in alien_colors:\n",
    "    print(\"The alien color green earned 5 points\")\n",
    "else:\n",
    "    print(\"The alien earned 10 points\")"
   ]
  },
  {
   "cell_type": "code",
   "execution_count": null,
   "id": "better-smile",
   "metadata": {},
   "outputs": [],
   "source": []
  }
 ],
 "metadata": {
  "kernelspec": {
   "display_name": "Python 3",
   "language": "python",
   "name": "python3"
  },
  "language_info": {
   "codemirror_mode": {
    "name": "ipython",
    "version": 3
   },
   "file_extension": ".py",
   "mimetype": "text/x-python",
   "name": "python",
   "nbconvert_exporter": "python",
   "pygments_lexer": "ipython3",
   "version": "3.8.5"
  }
 },
 "nbformat": 4,
 "nbformat_minor": 5
}
