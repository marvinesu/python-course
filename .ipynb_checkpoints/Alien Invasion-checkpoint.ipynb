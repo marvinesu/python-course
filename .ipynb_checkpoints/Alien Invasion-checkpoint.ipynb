{
 "cells": [
  {
   "cell_type": "code",
   "execution_count": 1,
   "id": "confirmed-deadline",
   "metadata": {},
   "outputs": [
    {
     "name": "stdout",
     "output_type": "stream",
     "text": [
      "pygame 2.0.1 (SDL 2.0.14, Python 3.8.5)\n",
      "Hello from the pygame community. https://www.pygame.org/contribute.html\n"
     ]
    }
   ],
   "source": [
    "import sys\n",
    "import pygame\n",
    "\n",
    "def run_game():\n",
    "    #Initialize game and create a screen object.\n",
    "    pygame.init()\n",
    "    screen = pygame.display.set_mode((1200,800))\n",
    "    pygame.display.set_caption(\"Alien Invasion\")\n",
    "    \n",
    "    #Start the main loop for the game\n",
    "    while True:\n",
    "        #Watch for keyboard and mouse events.\n",
    "        for event in pygame.event.get():\n",
    "            if event.type == pygame.QUIT:\n",
    "                sys.exit()\n",
    "        #Make the most recently drawn screen visible.\n",
    "        pygame.display.flip()\n",
    "\n",
    "run_game()\n"
   ]
  },
  {
   "cell_type": "code",
   "execution_count": null,
   "id": "olive-harris",
   "metadata": {},
   "outputs": [],
   "source": []
  }
 ],
 "metadata": {
  "kernelspec": {
   "display_name": "Python 3",
   "language": "python",
   "name": "python3"
  },
  "language_info": {
   "codemirror_mode": {
    "name": "ipython",
    "version": 3
   },
   "file_extension": ".py",
   "mimetype": "text/x-python",
   "name": "python",
   "nbconvert_exporter": "python",
   "pygments_lexer": "ipython3",
   "version": "3.8.5"
  }
 },
 "nbformat": 4,
 "nbformat_minor": 5
}
