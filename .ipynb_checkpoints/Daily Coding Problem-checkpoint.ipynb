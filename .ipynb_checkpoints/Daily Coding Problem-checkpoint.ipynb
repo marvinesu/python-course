{
 "cells": [
  {
   "cell_type": "code",
   "execution_count": 3,
   "id": "olympic-equivalent",
   "metadata": {},
   "outputs": [
    {
     "data": {
      "text/plain": [
       "5"
      ]
     },
     "execution_count": 3,
     "metadata": {},
     "output_type": "execute_result"
    }
   ],
   "source": [
    "'''\n",
    "This problem was asked by Amazon.\n",
    "\n",
    "There exists a staircase with N steps, and you can climb up either 1 or 2 \n",
    "steps at a time. Given N, write a function that returns the number of unique \n",
    "ways you can climb the staircase. The order of the steps matters.\n",
    "\n",
    "For example, if N is 4, then there are 5 unique ways:\n",
    "\n",
    "1, 1, 1, 1\n",
    "2, 1, 1\n",
    "1, 2, 1\n",
    "1, 1, 2\n",
    "2, 2\n",
    "\n",
    "What if, instead of being able to climb 1 or 2 steps at a time, \n",
    "you could climb any number from a set of positive integers X?\n",
    "For example, if X = {1, 3, 5}, you could climb 1, 3, or 5 steps at a time.\n",
    "'''\n",
    "\n",
    "def staircase(n):\n",
    "    if n <= 1:\n",
    "        return 1\n",
    "    return staircase(n-1) + staircase(n-2)\n",
    "\n",
    "staircase(4)"
   ]
  },
  {
   "cell_type": "code",
   "execution_count": 5,
   "id": "suburban-restriction",
   "metadata": {},
   "outputs": [
    {
     "data": {
      "text/plain": [
       "5"
      ]
     },
     "execution_count": 5,
     "metadata": {},
     "output_type": "execute_result"
    }
   ],
   "source": [
    "def staircase(n):\n",
    "    a, b = 1, 2\n",
    "    for _ in range(n - 1):\n",
    "        a, b = b, a + b\n",
    "    return a\n",
    "\n",
    "staircase(4)"
   ]
  },
  {
   "cell_type": "code",
   "execution_count": 7,
   "id": "imported-recommendation",
   "metadata": {},
   "outputs": [
    {
     "ename": "TypeError",
     "evalue": "staircase() missing 1 required positional argument: 'X'",
     "output_type": "error",
     "traceback": [
      "\u001b[1;31m---------------------------------------------------------------\u001b[0m",
      "\u001b[1;31mTypeError\u001b[0m                     Traceback (most recent call last)",
      "\u001b[1;32m<ipython-input-7-fdbb6864beaf>\u001b[0m in \u001b[0;36m<module>\u001b[1;34m\u001b[0m\n\u001b[0;32m      7\u001b[0m         \u001b[1;32mreturn\u001b[0m \u001b[0msum\u001b[0m\u001b[1;33m(\u001b[0m\u001b[0mstaircase\u001b[0m\u001b[1;33m(\u001b[0m\u001b[0mn\u001b[0m \u001b[1;33m-\u001b[0m \u001b[0mx\u001b[0m\u001b[1;33m,\u001b[0m \u001b[0mX\u001b[0m\u001b[1;33m)\u001b[0m \u001b[1;32mfor\u001b[0m \u001b[0mx\u001b[0m \u001b[1;32min\u001b[0m \u001b[0mX\u001b[0m\u001b[1;33m)\u001b[0m\u001b[1;33m\u001b[0m\u001b[1;33m\u001b[0m\u001b[0m\n\u001b[0;32m      8\u001b[0m \u001b[1;33m\u001b[0m\u001b[0m\n\u001b[1;32m----> 9\u001b[1;33m \u001b[0mstaircase\u001b[0m\u001b[1;33m(\u001b[0m\u001b[1;36m4\u001b[0m\u001b[1;33m)\u001b[0m\u001b[1;33m\u001b[0m\u001b[1;33m\u001b[0m\u001b[0m\n\u001b[0m",
      "\u001b[1;31mTypeError\u001b[0m: staircase() missing 1 required positional argument: 'X'"
     ]
    }
   ],
   "source": [
    "def staircase(n, X):\n",
    "    if n < 0:\n",
    "        return 0\n",
    "    elif n == 0:\n",
    "        return 1\n",
    "    else:\n",
    "        return sum(staircase(n - x, X) for x in X)\n",
    "\n",
    "staircase(4)"
   ]
  },
  {
   "cell_type": "code",
   "execution_count": null,
   "id": "treated-mileage",
   "metadata": {},
   "outputs": [],
   "source": [
    "def staircase(n, X):\n",
    "    cache = [0 for _ in range(n + 1)]\n",
    "    cache[0] = 1\n",
    "    for i in range(1, n + 1):\n",
    "        cache[i] += sum(cache[i - x] for x in X if i - x >= 0)\n",
    "    return cache[n]"
   ]
  }
 ],
 "metadata": {
  "kernelspec": {
   "display_name": "Python 3",
   "language": "python",
   "name": "python3"
  },
  "language_info": {
   "codemirror_mode": {
    "name": "ipython",
    "version": 3
   },
   "file_extension": ".py",
   "mimetype": "text/x-python",
   "name": "python",
   "nbconvert_exporter": "python",
   "pygments_lexer": "ipython3",
   "version": "3.8.5"
  }
 },
 "nbformat": 4,
 "nbformat_minor": 5
}
