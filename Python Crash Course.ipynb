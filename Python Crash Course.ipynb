{
 "cells": [
  {
   "cell_type": "code",
   "execution_count": 1,
   "id": "unique-stocks",
   "metadata": {},
   "outputs": [
    {
     "name": "stdout",
     "output_type": "stream",
     "text": [
      "Hello Python World\n"
     ]
    }
   ],
   "source": [
    "message = \"Hello Python World\"\n",
    "print(message)"
   ]
  },
  {
   "cell_type": "code",
   "execution_count": 14,
   "id": "consistent-trinidad",
   "metadata": {
    "scrolled": true
   },
   "outputs": [
    {
     "name": "stdout",
     "output_type": "stream",
     "text": [
      "Ada Lovelace\n",
      "ADA LOVELACE\n",
      "ada lovelace\n",
      "Marvin Solis\n",
      "\tMarvin Solis\n",
      "\n",
      "Marvin\n",
      "Solis\n",
      "python   \n",
      "python\n",
      "One of Python's strengths is its diverse community.\n",
      "What is your name?mar\n",
      "Hello mar, would you like to learn some Python today?\n",
      "Albert Einstein once said, \"A person who never made a mistake never tried anything new\"\n"
     ]
    }
   ],
   "source": [
    "#Changing Case in a String with Methods\n",
    "name = \"ada loveLace\"\n",
    "print(name.title())\n",
    "print(name.upper())\n",
    "print(name.lower())\n",
    "\n",
    "#Combining or concatenating String\n",
    "first_name = \"Marvin\"\n",
    "last_name = \"Solis\"\n",
    "full_name = first_name + \" \" + last_name\n",
    "print(full_name)\n",
    "\n",
    "#adding a tabs\n",
    "print(\"\\t\"+full_name)\n",
    "#adding a new line\n",
    "print(\"\\n\"+first_name+\"\\n\"+last_name)\n",
    "\n",
    "#striping Whitespace\n",
    "language = \"python   \"\n",
    "print(language)\n",
    "print(language.rstrip())\n",
    "\n",
    "#avoiding Syntax Error with Strings\n",
    "message = \"One of Python's strengths is its diverse community.\"\n",
    "print(message)\n",
    "\n",
    "#personal Message\n",
    "nombre = \"MARVINs\"\n",
    "print(\"Hello \"+nombre+\", would you like to learn some Python today?\")\n",
    "\n",
    "#Name Cases\n",
    "print('Albert Einstein once said, \"A person who never made a mistake never tried anything new\"')\n"
   ]
  },
  {
   "cell_type": "code",
   "execution_count": 22,
   "id": "earlier-suite",
   "metadata": {},
   "outputs": [
    {
     "name": "stdout",
     "output_type": "stream",
     "text": [
      "Happy 30th Birthday!\n"
     ]
    }
   ],
   "source": [
    "#Number\n",
    "#integer: You can add (+), subtract(-), multiply(*), and divide(/) intergers in Python\n",
    "#Floats: Python calls any number with a decimal point a float.\n",
    "\n",
    "#Avoiding type errors with the str() Function\n",
    "age = 30\n",
    "message = \"Happy \" + str(age) + \"th Birthday!\"\n",
    "print(message)\n"
   ]
  },
  {
   "cell_type": "code",
   "execution_count": 23,
   "id": "excellent-farming",
   "metadata": {},
   "outputs": [
    {
     "name": "stdout",
     "output_type": "stream",
     "text": [
      "The Zen of Python, by Tim Peters\n",
      "\n",
      "Beautiful is better than ugly.\n",
      "Explicit is better than implicit.\n",
      "Simple is better than complex.\n",
      "Complex is better than complicated.\n",
      "Flat is better than nested.\n",
      "Sparse is better than dense.\n",
      "Readability counts.\n",
      "Special cases aren't special enough to break the rules.\n",
      "Although practicality beats purity.\n",
      "Errors should never pass silently.\n",
      "Unless explicitly silenced.\n",
      "In the face of ambiguity, refuse the temptation to guess.\n",
      "There should be one-- and preferably only one --obvious way to do it.\n",
      "Although that way may not be obvious at first unless you're Dutch.\n",
      "Now is better than never.\n",
      "Although never is often better than *right* now.\n",
      "If the implementation is hard to explain, it's a bad idea.\n",
      "If the implementation is easy to explain, it may be a good idea.\n",
      "Namespaces are one honking great idea -- let's do more of those!\n"
     ]
    }
   ],
   "source": [
    "import this"
   ]
  },
  {
   "cell_type": "code",
   "execution_count": 19,
   "id": "ongoing-appeal",
   "metadata": {},
   "outputs": [
    {
     "name": "stdout",
     "output_type": "stream",
     "text": [
      "['trek', 'cannondale', 'redline', 'specialized']\n",
      "Trek\n",
      "specialized\n",
      "My first bicycle was Trek.\n",
      "['honda', 'yamaha', 'susuki']\n",
      "['ducati', 'yamaha', 'susuki']\n",
      "['ducati', 'yamaha', 'susuki', 'honda']\n",
      "['ducati', 'genesis', 'yamaha', 'susuki', 'honda']\n",
      "['genesis', 'yamaha', 'susuki', 'honda']\n",
      "['genesis', 'yamaha', 'susuki']\n",
      "honda\n",
      "['genesis', 'yamaha']\n",
      "The first motorcycle I owned was a Susuki.\n",
      "['yamaha']\n"
     ]
    }
   ],
   "source": [
    "#List\n",
    "bicycles = ['trek', 'cannondale', 'redline', 'specialized']\n",
    "print(bicycles)\n",
    "\n",
    "#accessing elements in a list\n",
    "print(bicycles[0].title())\n",
    "\n",
    "#index positions start at 0, Not 1\n",
    "print(bicycles[-1])\n",
    "\n",
    "#Using individual values from a list\n",
    "message = \"My first bicycle was \" + bicycles[0].title()+\".\"\n",
    "print(message)\n",
    "\n",
    "#Changing, Adding, and Removing Elements\n",
    "#Modifying Elements in a List\n",
    "motorcycles = ['honda','yamaha', 'susuki']\n",
    "print(motorcycles)\n",
    "motorcycles[0] = 'ducati'\n",
    "print(motorcycles)\n",
    "\n",
    "#adding\n",
    "motorcycles.append('honda')\n",
    "print(motorcycles)\n",
    "\n",
    "#inserting elements in a list\n",
    "motorcycles.insert(1, 'genesis')\n",
    "print(motorcycles)\n",
    "\n",
    "#Removing Elements from a list\n",
    "del motorcycles[0]\n",
    "print(motorcycles)\n",
    "\n",
    "#Removing an Item Using the pop() Method\n",
    "popped_motorcycle = motorcycles.pop()\n",
    "print(motorcycles)\n",
    "print(popped_motorcycle)\n",
    "last_owned = motorcycles.pop()\n",
    "print(motorcycles)\n",
    "print('The first motorcycle I owned was a ' + last_owned.title() + '.')\n",
    "\n",
    "#Removing an Item by Value\n",
    "motorcycles.remove('genesis')\n",
    "print(motorcycles)"
   ]
  },
  {
   "cell_type": "code",
   "execution_count": 27,
   "id": "confirmed-carrier",
   "metadata": {},
   "outputs": [
    {
     "name": "stdout",
     "output_type": "stream",
     "text": [
      "['audi', 'bmw', 'subaru', 'toyota']\n",
      "['toyota', 'subaru', 'bmw', 'audi']\n",
      "\n",
      "Here is the original list:\n",
      "['bmw', 'audi', 'toyota', 'subaru']\n",
      "\n",
      " Here is the sorted list:\n",
      "['audi', 'bmw', 'subaru', 'toyota']\n",
      "\n",
      "Here is the original list againg:\n",
      "['bmw', 'audi', 'toyota', 'subaru']\n",
      "['subaru', 'toyota', 'audi', 'bmw']\n",
      "4\n"
     ]
    }
   ],
   "source": [
    "#List part 2\n",
    "#Organizing a List\n",
    "cars = ['bmw', 'audi', 'toyota','subaru']\n",
    "cars.sort()\n",
    "print(cars)\n",
    "#reverse alphabetical\n",
    "cars.sort(reverse=True)\n",
    "print(cars)\n",
    "\n",
    "#Sorting a List Temporarily with the sorted() Function\n",
    "cars = ['bmw', 'audi', 'toyota','subaru']\n",
    "print(\"\\nHere is the original list:\")\n",
    "print(cars)\n",
    "print(\"\\n Here is the sorted list:\")\n",
    "print(sorted(cars))\n",
    "print(\"\\nHere is the original list againg:\")\n",
    "print(cars)\n",
    "\n",
    "#Printing a List in Reverse Order\n",
    "cars.reverse()\n",
    "print(cars)\n",
    "\n",
    "#Finding the Length of a List\n",
    "print(len(cars))\n",
    "\n",
    "#Avoiding Index Errors When Working with Lists.\n",
    "#Remenber index starts at 0.\n"
   ]
  },
  {
   "cell_type": "code",
   "execution_count": 50,
   "id": "statistical-amount",
   "metadata": {},
   "outputs": [
    {
     "name": "stdout",
     "output_type": "stream",
     "text": [
      "alice\n",
      "Alice, that was a great trick!\n",
      "david\n",
      "David, that was a great trick!\n",
      "carolina\n",
      "Carolina, that was a great trick!\n",
      "1\n",
      "2\n",
      "3\n",
      "4\n",
      "[1, 4, 9, 16, 25, 36, 49, 64, 81, 100]\n",
      "0\n",
      "9\n",
      "45\n",
      "[1, 4, 9, 16, 25, 36, 49, 64, 81, 100]\n",
      "[1, 2, 3, 4, 5, 6, 7, 8, 9, 10, 11, 12, 13, 14, 15, 16, 17, 18, 19, 20]\n",
      "['charles', 'martina', 'michael']\n",
      "['martina', 'michael', 'florence']\n",
      "['charles', 'martina', 'michael', 'florence']\n",
      "['michael', 'florence', 'eli']\n",
      "['michael', 'florence', 'eli']\n",
      "Charles\n",
      "Martina\n",
      "Michael\n",
      "My favorite foods are:\n",
      "['pizza', 'falafel', 'carrot cake', 'aguacate']\n",
      "\n",
      "My friend's favorite foods are:\n",
      "['pizza', 'falafel', 'carrot cake', 'ice cream']\n"
     ]
    }
   ],
   "source": [
    "#Part 3 List\n",
    "#Working List\n",
    "\n",
    "magicians = ['alice', 'david', 'carolina']\n",
    "for magician in magicians:\n",
    "    print(magician)\n",
    "    print(magician.title()+\", that was a great trick!\")\n",
    "    \n",
    "#Forgetting to Indent\n",
    "#Always indent the line after the for statement in a loop. If you forget,\n",
    "#Python will remind you: IndentationError\n",
    "#Forgetting to Indent Additional Lines\n",
    "#Indenting Unnecessarily\n",
    "#Indenting Unnecessarily After the Loop\n",
    "#Forgetting the colon\n",
    "\n",
    "#Making Numerical Lists\n",
    "#Using the range() Function\n",
    "for value in range(1,5):\n",
    "    print(value)\n",
    "\n",
    "#squares\n",
    "squares = []\n",
    "for value in range(1,11):\n",
    "    square = value**2\n",
    "    squares.append(square)\n",
    "\n",
    "print(squares)\n",
    "\n",
    "#Simple Statistics with a List of Numbers\n",
    "digits = [1,2,3,4,5,6,7,8,9,0]\n",
    "print(min(digits))\n",
    "print(max(digits))\n",
    "print(sum(digits))\n",
    "\n",
    "#List Comprehensions\n",
    "squares2 = [value**2 for value in range(1,11)]\n",
    "print(squares2)\n",
    "\n",
    "counts = [i for i in range(1,21)]\n",
    "print(counts)\n",
    "\n",
    "#Working with Part of a List\n",
    "#Slicing a List\n",
    "players = ['charles', 'martina', 'michael', 'florence', 'eli']\n",
    "print(players[0:3])\n",
    "print(players[1:4])\n",
    "print(players[:4])\n",
    "print(players[2:])\n",
    "print(players[-3:])\n",
    "\n",
    "#Looping Through a Slice\n",
    "for player in players[:3]:\n",
    "    print(player.title())\n",
    "    \n",
    "#Copying a List\n",
    "my_foods = ['pizza','falafel','carrot cake']\n",
    "friend_foods = my_foods[:]\n",
    "\n",
    "print(\"My favorite foods are:\")\n",
    "my_foods.append('aguacate')\n",
    "print(my_foods)\n",
    "\n",
    "print(\"\\nMy friend's favorite foods are:\")\n",
    "friend_foods.append('ice cream')\n",
    "print(friend_foods)"
   ]
  },
  {
   "cell_type": "code",
   "execution_count": 54,
   "id": "specified-steal",
   "metadata": {},
   "outputs": [
    {
     "name": "stdout",
     "output_type": "stream",
     "text": [
      "200\n",
      "50\n",
      "300\n",
      "100\n"
     ]
    }
   ],
   "source": [
    "#Tuples - Immutable List\n",
    "dimensions = (200, 50)\n",
    "print(dimensions[0])\n",
    "print(dimensions[1])\n",
    "\n",
    "dimensions = (300, 100)\n",
    "#Looping Through All Values in a Tuple\n",
    "for dimension in dimensions:\n",
    "    print(dimension)"
   ]
  },
  {
   "cell_type": "code",
   "execution_count": 6,
   "id": "welsh-alabama",
   "metadata": {},
   "outputs": [
    {
     "name": "stdout",
     "output_type": "stream",
     "text": [
      "Audi\n",
      "BMW\n",
      "Subaru\n",
      "Toyota\n",
      "Hold the anchovies!\n",
      "True\n",
      "False\n",
      "You are old enough to vote!\n",
      "Have you registered to vote yet?\n",
      "Your admission cost is $10.\n",
      "Adding mushrooms\n",
      "Adding extra cheese.\n",
      "\n",
      "Finished making your pizza!\n"
     ]
    }
   ],
   "source": [
    "#If Statements\n",
    "cars = ['audi', 'bmw', 'subaru', 'toyota']\n",
    "\n",
    "for car in cars:\n",
    "    if car == 'bmw':\n",
    "        print(car.upper())\n",
    "    else:\n",
    "        print(car.title())\n",
    "\n",
    "#Checking for Inequality\n",
    "requested_topping = 'mushrooms'\n",
    "\n",
    "if requested_topping != 'anchovies':\n",
    "    print(\"Hold the anchovies!\")\n",
    "\n",
    "#Numerical comparison\n",
    "age = 18\n",
    "print(age == 18)\n",
    "\n",
    "#Checking multiple conditions\n",
    "age_0 = 22\n",
    "age_1 = 18\n",
    "print(age_0 >= 21 and age_1 >= 21)\n",
    "\n",
    "if age >=18:\n",
    "    print(\"You are old enough to vote!\")\n",
    "    print(\"Have you registered to vote yet?\")\n",
    "else:\n",
    "    print(\"Sorry, you are too young to vote.\")\n",
    "    print(\"Please register to vote as soon as you turn 18!\")\n",
    "\n",
    "#The if-elif-else Chain\n",
    "#You can use multiple elif Blocks\n",
    "age = 25\n",
    "if age < 4:\n",
    "    print(\"Your admission cost is $0.\")\n",
    "elif age < 18:\n",
    "    print(\"Your admission cost is $5.\")\n",
    "else: \n",
    "    print(\"Your admission cost is $10.\")\n",
    "#Omitting the else Block\n",
    "age = 12\n",
    "\n",
    "if age < 4:\n",
    "    price = 0\n",
    "elif age < 18:\n",
    "    price = 5\n",
    "elif age < 65:\n",
    "    price = 10\n",
    "elif age >=65:\n",
    "    price = 15\n",
    "\n",
    "#Testing Multiple Conditions\n",
    "requested_topping = ['mushrooms','extra cheese']\n",
    "\n",
    "if 'mushrooms' in requested_topping:\n",
    "    print(\"Adding mushrooms\")\n",
    "if 'pepperoni' in requested_topping:\n",
    "    print(\"Adding pepperoni\")\n",
    "if 'extra cheese' in requested_topping:\n",
    "    print(\"Adding extra cheese.\")\n",
    "\n",
    "print(\"\\nFinished making your pizza!\")\n",
    "\n",
    "\n"
   ]
  },
  {
   "cell_type": "code",
   "execution_count": 11,
   "id": "capable-packaging",
   "metadata": {},
   "outputs": [
    {
     "name": "stdout",
     "output_type": "stream",
     "text": [
      "The alien earned 10 points\n"
     ]
    }
   ],
   "source": [
    "#Alien Colors\n",
    "alien_colors = ['green', 'yellow', 'red']\n",
    "\n",
    "if \"white\" in alien_colors:\n",
    "    print(\"The alien color green earned 5 points\")\n",
    "else:\n",
    "    print(\"The alien earned 10 points\")"
   ]
  },
  {
   "cell_type": "code",
   "execution_count": 10,
   "id": "civic-hunger",
   "metadata": {},
   "outputs": [
    {
     "name": "stdout",
     "output_type": "stream",
     "text": [
      "green\n",
      "5\n",
      "New values were added:\n",
      " {'color': 'green', 'points': 5, 'x-position': 0, 'y-position': 25}\n",
      "The alien is now yellow.\n",
      "New x-position: 2\n",
      "{'color': 'yellow', 'x-position': 2, 'y-position': 25, 'speed': 'medium'}\n",
      "Sarah's favorite language is c\n"
     ]
    }
   ],
   "source": [
    "#Dictionaries\n",
    "alien_0 = {'color': 'green', 'points':5} #'key':value\n",
    "print(alien_0['color'])\n",
    "print(alien_0['points'])#Accessing\n",
    "\n",
    "#Adding New Key-Value Pairs\n",
    "alien_0['x-position'] = 0\n",
    "alien_0['y-position'] = 25\n",
    "\n",
    "print(\"New values were added:\\n\",alien_0)\n",
    "\n",
    "#Modifying Values in a Dictionary\n",
    "alien_0['color'] = 'yellow'\n",
    "print(\"The alien is now \" + alien_0['color'] + \".\")\n",
    "\n",
    "alien_0['speed'] = 'medium'\n",
    "#Move the alien to the right.\n",
    "#Determine how far to move the alien based on its current speed.\n",
    "\n",
    "if alien_0['speed'] == 'slow':\n",
    "    x_increment = 1\n",
    "elif alien_0['speed'] == 'medium':\n",
    "    x_increment = 2\n",
    "else:\n",
    "    #This must be a fast alien\n",
    "    x_increment = 3\n",
    "\n",
    "#The new position is the old position plus te increment.\n",
    "alien_0['x-position'] = alien_0['x-position'] + x_increment\n",
    "print(\"New x-position: \" + str(alien_0['x-position']))\n",
    "\n",
    "#Removing Key-Values Pairs\n",
    "del alien_0['points']\n",
    "print(alien_0)\n",
    "\n",
    "#Similar obeject\n",
    "'''\n",
    "favorite_languages = {\n",
    "    'jen': 'python',\n",
    "    'sarah': 'c',\n",
    "    'edward': 'ruby',\n",
    "    'phil': 'python'\n",
    "}\n",
    "\n",
    "print(\"Sarah's favorite language is \" + favorite_languages['sarah'])\n",
    "'''\n"
   ]
  },
  {
   "cell_type": "code",
   "execution_count": 9,
   "id": "4a3da563",
   "metadata": {},
   "outputs": [
    {
     "name": "stdout",
     "output_type": "stream",
     "text": [
      "\n",
      "Key: username\n",
      "Value: efermi\n",
      "\n",
      "Key: first\n",
      "Value: enrico\n",
      "\n",
      "Key: last\n",
      "Value: fermi\n",
      "\n",
      "\n",
      "Jen's favorite language is Python.\n",
      "Sarah's favorite language is C.\n",
      "Edward's favorite language is Ruby.\n",
      "Phil's favorite language is Python.\n",
      "Jen\n",
      "Sarah\n",
      "Edward\n",
      "Phil\n",
      "Python\n",
      "C\n",
      "Ruby\n",
      "Python\n"
     ]
    }
   ],
   "source": [
    "#Exercise Dictionaries\n",
    "#looping\n",
    "user_0 = {\n",
    "    'username': 'efermi',\n",
    "    'first': 'enrico',\n",
    "    'last': 'fermi'\n",
    "}\n",
    "\n",
    "for key, value in user_0.items():\n",
    "    print(\"\\nKey: \" + key)\n",
    "    print(\"Value: \" + value)\n",
    "\n",
    "print(\"\\n\")\n",
    "favorite_languages = {\n",
    "    'jen': 'python',\n",
    "    'sarah': 'c',\n",
    "    'edward': 'ruby',\n",
    "    'phil': 'python'\n",
    "}\n",
    "#Looping all items\n",
    "for name, language in favorite_languages.items():\n",
    "    print(name.title() + \"'s favorite language is \" + language.title() + \".\")\n",
    "    \n",
    "#Loopint All the Keys\n",
    "for name in favorite_languages.keys():\n",
    "    print(name.title())\n",
    "\n",
    "#Loopint All the Values\n",
    "for value in favorite_languages.values():\n",
    "    print(value.title())\n"
   ]
  },
  {
   "cell_type": "code",
   "execution_count": 20,
   "id": "floppy-meter",
   "metadata": {},
   "outputs": [
    {
     "name": "stdout",
     "output_type": "stream",
     "text": [
      "{'color': 'green', 'points': 5}\n",
      "{'color': 'yellow', 'points': 10}\n",
      "{'color': 'red', 'points': 15}\n",
      "{'color': 'green', 'points': 5, 'speed': 'slow'}\n",
      "{'color': 'green', 'points': 5, 'speed': 'slow'}\n",
      "{'color': 'green', 'points': 5, 'speed': 'slow'}\n",
      "{'color': 'green', 'points': 5, 'speed': 'slow'}\n",
      "{'color': 'green', 'points': 5, 'speed': 'slow'}\n",
      "...\n",
      "Total number of aliens: 30\n",
      "\n",
      "\tUsername: aeinstein\n",
      "\tFull name: Albert Einstein\n",
      "\tLocation: Princeton\n",
      "\n",
      "\tUsername: mcurie\n",
      "\tFull name: Marie Curie\n",
      "\tLocation: Paris\n",
      "\n",
      "\tUsername: msolis\n",
      "\tFull name: Marvin Solis\n",
      "\tLocation: Princeton\n"
     ]
    }
   ],
   "source": [
    "#Dictionaries - continue\n",
    "#Nesting\n",
    "alien_0 = {'color': 'green', 'points': 5}\n",
    "alien_1 = {'color': 'yellow', 'points': 10}\n",
    "alien_2 = {'color': 'red', 'points': 15}\n",
    "\n",
    "aliens = [alien_0, alien_1, alien_2]\n",
    "\n",
    "for alien in aliens:\n",
    "    print(alien)\n",
    "\n",
    "#Make an empty list for storing aliens.\n",
    "aliens = []\n",
    "\n",
    "#Make 30 green aliens\n",
    "for alien_number in range(30):\n",
    "    new_alien = {'color': 'green', 'points':5, 'speed':'slow'}\n",
    "    aliens.append(new_alien)\n",
    "    \n",
    "#show the first 5 aliens\n",
    "for alien in aliens[:5]:\n",
    "    print(alien)\n",
    "print(\"...\")\n",
    "\n",
    "#Show how many aliens have been created\n",
    "print(\"Total number of aliens: \" + str(len(aliens)))\n",
    "\n",
    "#A Dictionary in a Dictionary\n",
    "users = {\n",
    "    'aeinstein': {\n",
    "        'first': 'albert',\n",
    "        'last': 'einstein',\n",
    "        'location': 'princeton',\n",
    "    },\n",
    "    'mcurie': {\n",
    "        'first': 'marie',\n",
    "        'last' : 'curie',\n",
    "        'location': 'paris',\n",
    "    },\n",
    "    'msolis':{\n",
    "        'first': 'marvin',\n",
    "        'last': 'solis',\n",
    "        'location': 'princeton',\n",
    "    }\n",
    "}\n",
    "\n",
    "for username, user_info in users.items():\n",
    "    print(\"\\n\\tUsername: \" + username)\n",
    "    full_name = user_info['first'] + \" \" + user_info['last']\n",
    "    location = user_info['location']\n",
    "    print(\"\\tFull name: \" + full_name.title())\n",
    "    print(\"\\tLocation: \" + location.title())\n"
   ]
  },
  {
   "cell_type": "code",
   "execution_count": 1,
   "id": "figured-antibody",
   "metadata": {},
   "outputs": [
    {
     "name": "stdout",
     "output_type": "stream",
     "text": [
      "Tell me something, and I will repeat it back to you: Jaz, Liam\n",
      "Jaz, Liam\n"
     ]
    }
   ],
   "source": [
    "#User input and while loops\n",
    "message = input(\"Tell me something, and I will repeat it back to you: \")\n",
    "print(message)\n"
   ]
  },
  {
   "cell_type": "code",
   "execution_count": 3,
   "id": "3490ebbf",
   "metadata": {},
   "outputs": [
    {
     "name": "stdout",
     "output_type": "stream",
     "text": [
      "Please enter your name:mesu\n",
      "Hello, mesu!\n",
      "If you tell us who you are, we can personalize the messages you see\n",
      "What is your first name? Marvin\n",
      "\n",
      "Hello, Marvin!\n"
     ]
    }
   ],
   "source": [
    "#greeter\n",
    "name = input(\"Please enter your name:\")\n",
    "print(\"Hello, \" + name + \"!\")\n",
    "\n",
    "prompt = \"If you tell us who you are, we can personalize the messages you see\"\n",
    "prompt += \"\\nWhat is your first name? \"\n",
    "\n",
    "name = input(prompt)\n",
    "print(\"\\nHello, \" + name + \"!\")"
   ]
  },
  {
   "cell_type": "code",
   "execution_count": 6,
   "id": "e052ad18",
   "metadata": {},
   "outputs": [
    {
     "name": "stdout",
     "output_type": "stream",
     "text": [
      "How old are you? 30\n",
      "True\n"
     ]
    }
   ],
   "source": [
    "#Using int() to Accept Numerical Input\n",
    "age = input(\"How old are you? \")\n",
    "age = int(age)\n",
    "print(age>=18)\n"
   ]
  },
  {
   "cell_type": "code",
   "execution_count": 7,
   "id": "a36d76f4",
   "metadata": {},
   "outputs": [
    {
     "name": "stdout",
     "output_type": "stream",
     "text": [
      "How tall are you, in inches? 37\n",
      "\n",
      "You're tall enough to ride!\n"
     ]
    }
   ],
   "source": [
    "#Roller coaster\n",
    "height = input(\"How tall are you, in inches? \")\n",
    "height = int(height)\n",
    "\n",
    "if height >= 36:\n",
    "    print(\"\\nYou're tall enough to ride!\")\n",
    "else:\n",
    "    print(\"\\nYou'll be able to ride when you're a little older\")\n"
   ]
  },
  {
   "cell_type": "code",
   "execution_count": 4,
   "id": "fc5be699",
   "metadata": {},
   "outputs": [
    {
     "data": {
      "text/plain": [
       "1"
      ]
     },
     "execution_count": 4,
     "metadata": {},
     "output_type": "execute_result"
    }
   ],
   "source": [
    "#The Modulo Operator\n",
    "4%3\n",
    "5%3\n",
    "6%3\n",
    "7%3"
   ]
  },
  {
   "cell_type": "code",
   "execution_count": 6,
   "id": "noticed-struggle",
   "metadata": {},
   "outputs": [
    {
     "name": "stdout",
     "output_type": "stream",
     "text": [
      "Enter a number, and I'll tell you if it's even or odd: 3\n",
      "\n",
      "The number 3 is odd.\n"
     ]
    }
   ],
   "source": [
    "#Even or Odd\n",
    "number = input(\"Enter a number, and I'll tell you if it's even or odd: \")\n",
    "number = int(number)\n",
    "\n",
    "if number % 2 == 0:\n",
    "    print(\"\\nThe number \" + str(number) + \" is even.\")\n",
    "else:\n",
    "    print(\"\\nThe number \" + str(number) + \" is odd.\")"
   ]
  },
  {
   "cell_type": "code",
   "execution_count": 14,
   "id": "responsible-relay",
   "metadata": {},
   "outputs": [
    {
     "name": "stdout",
     "output_type": "stream",
     "text": [
      "1\n",
      "2\n",
      "3\n",
      "4\n",
      "5\n"
     ]
    }
   ],
   "source": [
    "#Introducing while Loops\n",
    "current_number = 1\n",
    "while current_number <= 5:\n",
    "    print(current_number)\n",
    "    current_number += 1"
   ]
  },
  {
   "cell_type": "code",
   "execution_count": 10,
   "id": "helpful-pharmacy",
   "metadata": {},
   "outputs": [
    {
     "name": "stdout",
     "output_type": "stream",
     "text": [
      "\n",
      "Tell me something, and I will repeat it back to you:\n",
      "Enter 'quit' to end the program. k\n",
      "\n",
      "Tell me something, and I will repeat it back to you:\n",
      "Enter 'quit' to end the program. quit\n",
      "quit\n"
     ]
    }
   ],
   "source": [
    "#Letting the User Choose When to Quit\n",
    "prompt = \"\\nTell me something, and I will repeat it back to you:\"\n",
    "prompt += \"\\nEnter 'quit' to end the program. \"\n",
    "\n",
    "message = \"\"\n",
    "while message != 'quit':\n",
    "    message = input(prompt)\n",
    "    if message != 'quit':\n",
    "        print(message)"
   ]
  },
  {
   "cell_type": "code",
   "execution_count": 15,
   "id": "facial-struggle",
   "metadata": {},
   "outputs": [
    {
     "name": "stdout",
     "output_type": "stream",
     "text": [
      "\n",
      "Tell me something, and I will repeat it back to you:\n",
      "Enter 'quit' to end the program. hello\n",
      "hello\n",
      "\n",
      "Tell me something, and I will repeat it back to you:\n",
      "Enter 'quit' to end the program. hello\n",
      "hello\n",
      "\n",
      "Tell me something, and I will repeat it back to you:\n",
      "Enter 'quit' to end the program. quit\n"
     ]
    }
   ],
   "source": [
    "#Using a flag\n",
    "prompt = \"\\nTell me something, and I will repeat it back to you:\"\n",
    "prompt += \"\\nEnter 'quit' to end the program. \"\n",
    "\n",
    "active = True\n",
    "while active:\n",
    "    message = input(prompt)\n",
    "    if message == 'quit':\n",
    "        active = False\n",
    "    else:\n",
    "        print(message)"
   ]
  },
  {
   "cell_type": "code",
   "execution_count": 16,
   "id": "every-oklahoma",
   "metadata": {},
   "outputs": [
    {
     "name": "stdout",
     "output_type": "stream",
     "text": [
      "\n",
      "Please enter the name of a city you have visited:\n",
      "(Enter 'quit' when you are finished.)Matagalpa\n",
      "I'd love to go to Matagalpa!\n",
      "\n",
      "Please enter the name of a city you have visited:\n",
      "(Enter 'quit' when you are finished.)quit\n"
     ]
    }
   ],
   "source": [
    "#Using break to Exit a Loop\n",
    "prompt = \"\\nPlease enter the name of a city you have visited:\"\n",
    "prompt += \"\\n(Enter 'quit' when you are finished.)\"\n",
    "\n",
    "while True:\n",
    "    city = input(prompt)\n",
    "    if city == 'quit':\n",
    "        break\n",
    "    else:\n",
    "        print(\"I'd love to go to \" + city.title() + \"!\")"
   ]
  },
  {
   "cell_type": "code",
   "execution_count": 18,
   "id": "median-mileage",
   "metadata": {},
   "outputs": [
    {
     "name": "stdout",
     "output_type": "stream",
     "text": [
      "2\n",
      "4\n",
      "6\n",
      "8\n",
      "10\n"
     ]
    }
   ],
   "source": [
    "#Using a continue in a Loop\n",
    "current_number = 0\n",
    "while current_number < 10:\n",
    "    current_number += 1\n",
    "    if current_number % 2 != 0:\n",
    "        continue\n",
    "    print(current_number)\n",
    "    \n",
    "#Avoid infinite loops\n"
   ]
  },
  {
   "cell_type": "code",
   "execution_count": 19,
   "id": "silent-intranet",
   "metadata": {},
   "outputs": [
    {
     "name": "stdout",
     "output_type": "stream",
     "text": [
      "Verifying user: Candace\n",
      "Verifying user: Brian\n",
      "Verifying user: Alice\n",
      "\n",
      "The following users have been confirmed: \n",
      "Candace\n",
      "Brian\n",
      "Alice\n"
     ]
    }
   ],
   "source": [
    "#Using Loop with Lists and Dictionaries\n",
    "\n",
    "#Start with users that need to be verified, and an empty list to hold confirmed users.\n",
    "unconfirmed_users = ['alice', 'brian', 'candace']\n",
    "confirmed_users = []\n",
    "\n",
    "#Verify each user until there are no more unconfirmed users\n",
    "#Move each verified user into the list of confirmed users\n",
    "\n",
    "while unconfirmed_users:\n",
    "    current_user = unconfirmed_users.pop()\n",
    "    print(\"Verifying user: \" + current_user.title())\n",
    "    confirmed_users.append(current_user)\n",
    "\n",
    "#Display all confirmed users.\n",
    "print(\"\\nThe following users have been confirmed: \")\n",
    "for confirmed_user in confirmed_users:\n",
    "    print(confirmed_user.title())"
   ]
  },
  {
   "cell_type": "code",
   "execution_count": 20,
   "id": "cognitive-orleans",
   "metadata": {},
   "outputs": [
    {
     "name": "stdout",
     "output_type": "stream",
     "text": [
      "['dog', 'cat', 'dog', 'goldfish', 'cat', 'rabbit', 'cat']\n",
      "['dog', 'dog', 'goldfish', 'rabbit']\n"
     ]
    }
   ],
   "source": [
    " #Removing All Instances of Specific Values from a List\n",
    "\n",
    "pets = ['dog', 'cat', 'dog', 'goldfish', 'cat', 'rabbit','cat']\n",
    "print(pets)\n",
    "\n",
    "while 'cat' in pets:\n",
    "    pets.remove('cat')\n",
    "    \n",
    "print(pets)"
   ]
  },
  {
   "cell_type": "code",
   "execution_count": 23,
   "id": "increased-device",
   "metadata": {},
   "outputs": [
    {
     "name": "stdout",
     "output_type": "stream",
     "text": [
      "\n",
      "What is your name? marvin\n",
      "Which mountain would you like to climb someday? everest\n",
      "Would you like to let another person respond? (yes/no) liam\n",
      "\n",
      "What is your name? momotonbo\n",
      "Which mountain would you like to climb someday? josue\n",
      "Would you like to let another person respond? (yes/no) cerro negro\n",
      "\n",
      "What is your name? josue\n",
      "Which mountain would you like to climb someday? aguacate\n",
      "Would you like to let another person respond? (yes/no) no\n",
      "\n",
      "--- Poll Results ---\n",
      "marvin would like to climb everest.\n",
      "momotonbo would like to climb josue.\n",
      "josue would like to climb aguacate.\n"
     ]
    }
   ],
   "source": [
    "#Filling a Dictionary with User Input\n",
    "\n",
    "responses = {}\n",
    "#Set a flag to indicate that polling is active.\n",
    "polling_active = True\n",
    "\n",
    "while polling_active:\n",
    "    #prompt for the person's name and response.\n",
    "    name = input(\"\\nWhat is your name? \")\n",
    "    response = input(\"Which mountain would you like to climb someday? \")\n",
    "    \n",
    "    #Store the response in the dictionary:\n",
    "    responses[name] = response\n",
    "    \n",
    "    #Find out if anyone else is going to take the poll.\n",
    "    repeat = input(\"Would you like to let another person respond? (yes/no) \")\n",
    "    if repeat == 'no':\n",
    "        polling_active = False\n",
    "\n",
    "#Polling is complete. Show the results\n",
    "print(\"\\n--- Poll Results ---\")\n",
    "for name, response in responses.items():\n",
    "    print(name + \" would like to climb \" + response + \".\")\n",
    "\n"
   ]
  },
  {
   "cell_type": "code",
   "execution_count": 40,
   "id": "multiple-spending",
   "metadata": {},
   "outputs": [
    {
     "name": "stdout",
     "output_type": "stream",
     "text": [
      "Hello, Marvin!\n",
      "\n",
      "I have a hamster.\n",
      "My hamster's name is Harry.\n",
      "\n",
      "I have a perro.\n",
      "My perro's name is Sky.\n",
      "\n",
      "I have a harry.\n",
      "My harry's name is Hamster.\n",
      "\n",
      "I have a Gato.\n",
      "My Gato's name is Mica.\n",
      "\n",
      "Tengo un perro.\n",
      "Mi perro se llama Sky.\n",
      "\n",
      "Tengo un humano.\n",
      "Mi humano se llama Marvin.\n",
      "Marvin Solis\n",
      "Marvin Enrique Solis\n",
      "Marvin Solis\n"
     ]
    }
   ],
   "source": [
    "#Function\n",
    "def greet_user(username):\n",
    "    \"\"\"Display a simple greeting\"\"\"\n",
    "    print(\"Hello, \" + username.title() + \"!\")\n",
    "\n",
    "greet_user('marvin')\n",
    "\n",
    "#Positional Arguments\n",
    "def describe_pet(animal_type, pet_name):\n",
    "    \"\"\"Display information about a pet.\"\"\"\n",
    "    print(\"\\nI have a \" + animal_type + \".\")\n",
    "    print(\"My \" + animal_type + \"'s name is \"+ pet_name.title() + \".\")\n",
    "#Multiple Function Call    \n",
    "describe_pet('hamster', 'harry')\n",
    "describe_pet('perro', 'sky')\n",
    "#Order Matters in Positional Arguments\n",
    "describe_pet('harry', 'hamster')\n",
    "\n",
    "#Keyword Arguments\n",
    "describe_pet(animal_type='Gato', pet_name='Mica')\n",
    "\"\"\"When you use keyword arguments, be sure to use \n",
    "the exact names of the parameters in the function's \n",
    "definition\"\"\"\n",
    "\n",
    "#Default Values\n",
    "def mis_mascotas(nombre, tipo='perro'):\n",
    "    \"Display Info\"\n",
    "    print(\"\\nTengo un \" + tipo + \".\")\n",
    "    print(\"Mi \" + tipo + \" se llama \" + nombre.title() + \".\")\n",
    "\n",
    "mis_mascotas(nombre='sky')\n",
    "mis_mascotas(nombre='marvin', tipo='humano')\n",
    "\n",
    "\"\"\"\n",
    "Equivalent Function Calls\n",
    "Because positional arguments, keyword arguments, and default values\n",
    "can all be used together, often you'll have several equivalent ways to call\n",
    "a function.\n",
    "\"\"\"\n",
    "\n",
    "#Return Values\n",
    "#Returning a Simple Value\n",
    "\n",
    "def get_formatted_name(first_name, last_name):\n",
    "    \"\"\"Return a full name, neatly formatted.\"\"\"\n",
    "    full_name = first_name + ' ' + last_name\n",
    "    return full_name.title()\n",
    "\n",
    "musician = get_formatted_name('marvin', 'solis')\n",
    "print(musician)\n",
    "\n",
    "#Making an Argument Optional\n",
    "def nombre_completo_formateado(nombre, apellido, segundo_nombre=''):\n",
    "    \"\"\"Regresa nombre completo formateado\"\"\"\n",
    "    if segundo_nombre:\n",
    "        nombre_completo = nombre + ' ' + segundo_nombre + ' ' + apellido\n",
    "    else:\n",
    "        nombre_completo = nombre + ' ' + apellido\n",
    "    return nombre_completo.title()\n",
    "\n",
    "musico = nombre_completo_formateado('marvin', 'solis', 'enrique')\n",
    "print(musico)\n",
    "musico = nombre_completo_formateado('marvin', 'solis')\n",
    "print(musico)"
   ]
  },
  {
   "cell_type": "code",
   "execution_count": 44,
   "id": "annual-character",
   "metadata": {},
   "outputs": [
    {
     "name": "stdout",
     "output_type": "stream",
     "text": [
      "{'first': 'marvin', 'last': 'solis', 'age': 30}\n"
     ]
    }
   ],
   "source": [
    "#Returning a Dictionary\n",
    "def build_person(first_name, last_name, age=''):\n",
    "    \"\"\"Return a dictionary of information about a person.\"\"\"\n",
    "    person = {'first':first_name, 'last':last_name}\n",
    "    if age:\n",
    "        person['age'] = age\n",
    "    return person\n",
    "\n",
    "musician = build_person('marvin','solis',30)\n",
    "print(musician)"
   ]
  },
  {
   "cell_type": "code",
   "execution_count": 46,
   "id": "increasing-spider",
   "metadata": {},
   "outputs": [
    {
     "name": "stdout",
     "output_type": "stream",
     "text": [
      "\n",
      "Please tell me your name:\n",
      "First name: Marvin\n",
      "Last name: Solis\n",
      "\n",
      "Hello, Marvin Solis!\n",
      "again: yes/notnot\n"
     ]
    }
   ],
   "source": [
    "#Using a Function with a while Loop\n",
    "def get_formatted_name(first_name, last_name):\n",
    "    \"\"\"Return a full name, neatly formatted.\"\"\"\n",
    "    full_name = first_name + ' ' + last_name\n",
    "    return full_name.title()\n",
    "\n",
    "again = 'yes'\n",
    "#This is an infinite loop!\n",
    "while again == 'yes':\n",
    "    print(\"\\nPlease tell me your name:\")\n",
    "    f_name = input(\"First name: \")\n",
    "    l_name = input(\"Last name: \")\n",
    "    \n",
    "    formatted_name = get_formatted_name(f_name, l_name)\n",
    "    print(\"\\nHello, \" + formatted_name + \"!\")\n",
    "    \n",
    "    again = input(\"again: yes/not\")"
   ]
  },
  {
   "cell_type": "code",
   "execution_count": 1,
   "id": "lightweight-trinity",
   "metadata": {},
   "outputs": [
    {
     "name": "stdout",
     "output_type": "stream",
     "text": [
      "Hello, Hannah!\n",
      "Hello, Ty!\n",
      "Hello, Margot!\n",
      "Hello, Liam!\n",
      "Hello, Marvin!\n"
     ]
    }
   ],
   "source": [
    "#Passing a List\n",
    "def greet_users(names):\n",
    "    \"\"\"Printa a simple greeting to each user in the list.\"\"\"\n",
    "    \n",
    "    for name in names:\n",
    "        msg = \"Hello, \" + name.title() + \"!\"\n",
    "        print(msg)\n",
    "\n",
    "usernames = ['hannah', 'ty', 'margot', 'liam', 'marvin']\n",
    "\n",
    "greet_users(usernames)"
   ]
  },
  {
   "cell_type": "code",
   "execution_count": 9,
   "id": "a8539166",
   "metadata": {},
   "outputs": [
    {
     "name": "stdout",
     "output_type": "stream",
     "text": [
      "Printing model: dodecahedron\n",
      "Printing model: robot pendant\n",
      "Printing model: ipone case\n",
      "\n",
      "The following models have been printed:\n",
      "dodecahedron\n",
      "robot pendant\n",
      "ipone case\n"
     ]
    }
   ],
   "source": [
    "#Modifying a List in a Function\n",
    "#Printing_models\n",
    "unprinted_designs = ['ipone case', 'robot pendant','dodecahedron']\n",
    "completed_models = []\n",
    "\n",
    "#Simulate printing each design, until none are left.\n",
    "#Move each design to completed_models after printing.\n",
    "def print_models(unprinted_designs, completed_models):\n",
    "    while unprinted_designs:\n",
    "        current_design = unprinted_designs.pop()\n",
    "        #Simulate creating a 3D print from the design.\n",
    "        print(\"Printing model: \" + current_design)\n",
    "        completed_models.append(current_design)\n",
    "        #Display all completed models.\n",
    "\n",
    "def show_completed_models(completed_models):\n",
    "    print(\"\\nThe following models have been printed:\")\n",
    "    for completed_model in completed_models:\n",
    "            print(completed_model)\n",
    "\n",
    "print_models(unprinted_designs, completed_models)\n",
    "show_completed_models(completed_models)"
   ]
  },
  {
   "cell_type": "code",
   "execution_count": null,
   "id": "95e4015e",
   "metadata": {
    "collapsed": true
   },
   "outputs": [],
   "source": [
    "#Preventing a Function from Modifying\n"
   ]
  }
 ],
 "metadata": {
  "kernelspec": {
   "display_name": "Python 3",
   "language": "python",
   "name": "python3"
  },
  "language_info": {
   "codemirror_mode": {
    "name": "ipython",
    "version": 3
   },
   "file_extension": ".py",
   "mimetype": "text/x-python",
   "name": "python",
   "nbconvert_exporter": "python",
   "pygments_lexer": "ipython3",
   "version": "3.9.4"
  }
 },
 "nbformat": 4,
 "nbformat_minor": 5
}
